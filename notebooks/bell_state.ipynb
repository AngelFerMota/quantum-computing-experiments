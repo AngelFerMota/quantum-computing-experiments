{
 "cells": [
  {
   "cell_type": "markdown",
   "id": "ec916aa7",
   "metadata": {},
   "source": [
    "# Estados de Bell - Demostración de Entrelazamiento Cuántico\n",
    "\n",
    "En este notebook vamos a explorar uno de los fenómenos más fascinantes de la mecánica cuántica: **el entrelazamiento cuántico**. Específicamente, crearemos y analizaremos un **Estado de Bell**.\n",
    "\n",
    "## ¿Qué es un Estado de Bell?\n",
    "\n",
    "Los Estados de Bell son estados cuánticos de dos qubits que exhiben entrelazamiento máximo. El entrelazamiento significa que el estado de un qubit está correlacionado instantáneamente con el estado del otro, sin importar la distancia que los separe.\n",
    "\n",
    "El estado de Bell más común es:\n",
    "$$|\\Phi^+\\rangle = \\frac{1}{\\sqrt{2}}(|00\\rangle + |11\\rangle)$$\n",
    "\n",
    "Esto significa que cuando midamos los qubits, obtendremos:\n",
    "- 50% de probabilidad de medir ambos qubits en estado |0⟩\n",
    "- 50% de probabilidad de medir ambos qubits en estado |1⟩\n",
    "- 0% de probabilidad de medir estados mixtos como |01⟩ o |10⟩"
   ]
  },
  {
   "cell_type": "markdown",
   "id": "65e9c367",
   "metadata": {},
   "source": [
    "## Importación de Librerías\n",
    "\n",
    "Primero importamos todas las librerías necesarias para nuestro experimento."
   ]
  },
  {
   "cell_type": "code",
   "execution_count": 1,
   "id": "205677cd",
   "metadata": {},
   "outputs": [
    {
     "name": "stdout",
     "output_type": "stream",
     "text": [
      "Librerías importadas correctamente\n",
      "Listo para crear estados cuánticos entrelazados\n"
     ]
    }
   ],
   "source": [
    "# Importación de librerías principales de Qiskit\n",
    "from qiskit import QuantumCircuit, QuantumRegister, ClassicalRegister\n",
    "from qiskit_aer import AerSimulator\n",
    "from qiskit.visualization import plot_histogram, circuit_drawer\n",
    "from qiskit.transpiler.preset_passmanagers import generate_preset_pass_manager\n",
    "\n",
    "# Librerías para visualización y análisis\n",
    "import matplotlib.pyplot as plt\n",
    "import numpy as np\n",
    "from collections import Counter\n",
    "\n",
    "# Configuración para mostrar gráficos en el notebook\n",
    "%matplotlib inline\n",
    "\n",
    "print(\"Librerías importadas correctamente\")\n",
    "print(\"Listo para crear estados cuánticos entrelazados\")"
   ]
  },
  {
   "cell_type": "markdown",
   "id": "543801ed",
   "metadata": {},
   "source": [
    "## Construcción del Circuito para Estado de Bell\n",
    "\n",
    "Para crear un estado de Bell necesitamos dos puertas cuánticas fundamentales:\n",
    "\n",
    "### Puerta Hadamard (H)\n",
    "- **Función**: Crea superposición cuántica\n",
    "- **Efecto**: Transforma |0⟩ → (|0⟩ + |1⟩)/√2\n",
    "- **Matriz**: $H = \\frac{1}{\\sqrt{2}}\\begin{pmatrix} 1 & 1 \\\\ 1 & -1 \\end{pmatrix}$\n",
    "\n",
    "### Puerta CNOT (Controlled-X)\n",
    "- **Función**: Puerta controlada de dos qubits\n",
    "- **Efecto**: Invierte el qubit objetivo si el qubit control está en |1⟩\n",
    "- **Propósito**: Crear entrelazamiento entre los qubits"
   ]
  },
  {
   "cell_type": "code",
   "execution_count": 2,
   "id": "4e670bc2",
   "metadata": {},
   "outputs": [
    {
     "name": "stdout",
     "output_type": "stream",
     "text": [
      "Circuito cuántico para Estado de Bell creado\n",
      "Número de qubits: 2\n",
      "Número de operaciones: 5\n"
     ]
    }
   ],
   "source": [
    "# Crear un circuito cuántico con 2 qubits y 2 bits clásicos\n",
    "qc = QuantumCircuit(2, 2)\n",
    "\n",
    "# Paso 1: Aplicar puerta Hadamard al primer qubit (qubit 0)\n",
    "# Esto crea superposición: |0⟩ → (|0⟩ + |1⟩)/√2\n",
    "qc.h(0)\n",
    "\n",
    "# Paso 2: Aplicar puerta CNOT con qubit 0 como control y qubit 1 como objetivo\n",
    "# Esto crea entrelazamiento entre los dos qubits\n",
    "qc.cx(0, 1)\n",
    "\n",
    "# Añadir mediciones para colapsar los estados cuánticos a estados clásicos\n",
    "qc.measure_all()\n",
    "\n",
    "print(\"Circuito cuántico para Estado de Bell creado\")\n",
    "print(f\"Número de qubits: {qc.num_qubits}\")\n",
    "print(f\"Número de operaciones: {len(qc.data)}\")"
   ]
  },
  {
   "cell_type": "markdown",
   "id": "ccd45652",
   "metadata": {},
   "source": [
    "## Visualización del Circuito Cuántico\n",
    "\n",
    "Vamos a visualizar cómo se ve nuestro circuito cuántico:"
   ]
  },
  {
   "cell_type": "code",
   "execution_count": 3,
   "id": "872d05ae",
   "metadata": {},
   "outputs": [
    {
     "name": "stdout",
     "output_type": "stream",
     "text": [
      "Diagrama del Circuito Cuántico para Estado de Bell:\n",
      "\n",
      "        ┌───┐      ░ ┌─┐   \n",
      "   q_0: ┤ H ├──■───░─┤M├───\n",
      "        └───┘┌─┴─┐ ░ └╥┘┌─┐\n",
      "   q_1: ─────┤ X ├─░──╫─┤M├\n",
      "             └───┘ ░  ║ └╥┘\n",
      "   c: 2/══════════════╬══╬═\n",
      "                      ║  ║ \n",
      "meas: 2/══════════════╩══╩═\n",
      "                      0  1 \n"
     ]
    },
    {
     "ename": "MissingOptionalLibraryError",
     "evalue": "\"The 'pylatexenc' library is required to use 'MatplotlibDrawer'. You can install it with 'pip install pylatexenc'.\"",
     "output_type": "error",
     "traceback": [
      "\u001b[31m---------------------------------------------------------------------------\u001b[39m",
      "\u001b[31mMissingOptionalLibraryError\u001b[39m               Traceback (most recent call last)",
      "\u001b[36mCell\u001b[39m\u001b[36m \u001b[39m\u001b[32mIn[3]\u001b[39m\u001b[32m, line 8\u001b[39m\n\u001b[32m      6\u001b[39m \u001b[38;5;66;03m# Crear versión visual para guardar\u001b[39;00m\n\u001b[32m      7\u001b[39m fig, ax = plt.subplots(figsize=(\u001b[32m10\u001b[39m, \u001b[32m6\u001b[39m))\n\u001b[32m----> \u001b[39m\u001b[32m8\u001b[39m \u001b[43mqc\u001b[49m\u001b[43m.\u001b[49m\u001b[43mdraw\u001b[49m\u001b[43m(\u001b[49m\u001b[43moutput\u001b[49m\u001b[43m=\u001b[49m\u001b[33;43m'\u001b[39;49m\u001b[33;43mmpl\u001b[39;49m\u001b[33;43m'\u001b[39;49m\u001b[43m,\u001b[49m\u001b[43m \u001b[49m\u001b[43max\u001b[49m\u001b[43m=\u001b[49m\u001b[43max\u001b[49m\u001b[43m)\u001b[49m\n\u001b[32m      9\u001b[39m plt.title(\u001b[33m'\u001b[39m\u001b[33mCircuito Cuántico - Estado de Bell\u001b[39m\u001b[33m'\u001b[39m, fontsize=\u001b[32m16\u001b[39m, fontweight=\u001b[33m'\u001b[39m\u001b[33mbold\u001b[39m\u001b[33m'\u001b[39m)\n\u001b[32m     10\u001b[39m plt.tight_layout()\n",
      "\u001b[36mFile \u001b[39m\u001b[32mc:\\Users\\angel\\Proyectos\\quantum-computing-experiments\\venv\\Lib\\site-packages\\qiskit\\circuit\\quantumcircuit.py:3808\u001b[39m, in \u001b[36mQuantumCircuit.draw\u001b[39m\u001b[34m(self, output, scale, filename, style, interactive, plot_barriers, reverse_bits, justify, vertical_compression, idle_wires, with_layout, fold, ax, initial_state, cregbundle, wire_order, expr_len)\u001b[39m\n\u001b[32m   3805\u001b[39m \u001b[38;5;66;03m# pylint: disable=cyclic-import\u001b[39;00m\n\u001b[32m   3806\u001b[39m \u001b[38;5;28;01mfrom\u001b[39;00m\u001b[38;5;250m \u001b[39m\u001b[34;01mqiskit\u001b[39;00m\u001b[34;01m.\u001b[39;00m\u001b[34;01mvisualization\u001b[39;00m\u001b[38;5;250m \u001b[39m\u001b[38;5;28;01mimport\u001b[39;00m circuit_drawer\n\u001b[32m-> \u001b[39m\u001b[32m3808\u001b[39m \u001b[38;5;28;01mreturn\u001b[39;00m \u001b[43mcircuit_drawer\u001b[49m\u001b[43m(\u001b[49m\n\u001b[32m   3809\u001b[39m \u001b[43m    \u001b[49m\u001b[38;5;28;43mself\u001b[39;49m\u001b[43m,\u001b[49m\n\u001b[32m   3810\u001b[39m \u001b[43m    \u001b[49m\u001b[43mscale\u001b[49m\u001b[43m=\u001b[49m\u001b[43mscale\u001b[49m\u001b[43m,\u001b[49m\n\u001b[32m   3811\u001b[39m \u001b[43m    \u001b[49m\u001b[43mfilename\u001b[49m\u001b[43m=\u001b[49m\u001b[43mfilename\u001b[49m\u001b[43m,\u001b[49m\n\u001b[32m   3812\u001b[39m \u001b[43m    \u001b[49m\u001b[43mstyle\u001b[49m\u001b[43m=\u001b[49m\u001b[43mstyle\u001b[49m\u001b[43m,\u001b[49m\n\u001b[32m   3813\u001b[39m \u001b[43m    \u001b[49m\u001b[43moutput\u001b[49m\u001b[43m=\u001b[49m\u001b[43moutput\u001b[49m\u001b[43m,\u001b[49m\n\u001b[32m   3814\u001b[39m \u001b[43m    \u001b[49m\u001b[43minteractive\u001b[49m\u001b[43m=\u001b[49m\u001b[43minteractive\u001b[49m\u001b[43m,\u001b[49m\n\u001b[32m   3815\u001b[39m \u001b[43m    \u001b[49m\u001b[43mplot_barriers\u001b[49m\u001b[43m=\u001b[49m\u001b[43mplot_barriers\u001b[49m\u001b[43m,\u001b[49m\n\u001b[32m   3816\u001b[39m \u001b[43m    \u001b[49m\u001b[43mreverse_bits\u001b[49m\u001b[43m=\u001b[49m\u001b[43mreverse_bits\u001b[49m\u001b[43m,\u001b[49m\n\u001b[32m   3817\u001b[39m \u001b[43m    \u001b[49m\u001b[43mjustify\u001b[49m\u001b[43m=\u001b[49m\u001b[43mjustify\u001b[49m\u001b[43m,\u001b[49m\n\u001b[32m   3818\u001b[39m \u001b[43m    \u001b[49m\u001b[43mvertical_compression\u001b[49m\u001b[43m=\u001b[49m\u001b[43mvertical_compression\u001b[49m\u001b[43m,\u001b[49m\n\u001b[32m   3819\u001b[39m \u001b[43m    \u001b[49m\u001b[43midle_wires\u001b[49m\u001b[43m=\u001b[49m\u001b[43midle_wires\u001b[49m\u001b[43m,\u001b[49m\n\u001b[32m   3820\u001b[39m \u001b[43m    \u001b[49m\u001b[43mwith_layout\u001b[49m\u001b[43m=\u001b[49m\u001b[43mwith_layout\u001b[49m\u001b[43m,\u001b[49m\n\u001b[32m   3821\u001b[39m \u001b[43m    \u001b[49m\u001b[43mfold\u001b[49m\u001b[43m=\u001b[49m\u001b[43mfold\u001b[49m\u001b[43m,\u001b[49m\n\u001b[32m   3822\u001b[39m \u001b[43m    \u001b[49m\u001b[43max\u001b[49m\u001b[43m=\u001b[49m\u001b[43max\u001b[49m\u001b[43m,\u001b[49m\n\u001b[32m   3823\u001b[39m \u001b[43m    \u001b[49m\u001b[43minitial_state\u001b[49m\u001b[43m=\u001b[49m\u001b[43minitial_state\u001b[49m\u001b[43m,\u001b[49m\n\u001b[32m   3824\u001b[39m \u001b[43m    \u001b[49m\u001b[43mcregbundle\u001b[49m\u001b[43m=\u001b[49m\u001b[43mcregbundle\u001b[49m\u001b[43m,\u001b[49m\n\u001b[32m   3825\u001b[39m \u001b[43m    \u001b[49m\u001b[43mwire_order\u001b[49m\u001b[43m=\u001b[49m\u001b[43mwire_order\u001b[49m\u001b[43m,\u001b[49m\n\u001b[32m   3826\u001b[39m \u001b[43m    \u001b[49m\u001b[43mexpr_len\u001b[49m\u001b[43m=\u001b[49m\u001b[43mexpr_len\u001b[49m\u001b[43m,\u001b[49m\n\u001b[32m   3827\u001b[39m \u001b[43m\u001b[49m\u001b[43m)\u001b[49m\n",
      "\u001b[36mFile \u001b[39m\u001b[32mc:\\Users\\angel\\Proyectos\\quantum-computing-experiments\\venv\\Lib\\site-packages\\qiskit\\visualization\\circuit\\circuit_visualization.py:339\u001b[39m, in \u001b[36mcircuit_drawer\u001b[39m\u001b[34m(circuit, scale, filename, style, output, interactive, plot_barriers, reverse_bits, justify, vertical_compression, idle_wires, with_layout, fold, ax, initial_state, cregbundle, wire_order, expr_len)\u001b[39m\n\u001b[32m    324\u001b[39m     \u001b[38;5;28;01mreturn\u001b[39;00m _generate_latex_source(\n\u001b[32m    325\u001b[39m         circuit,\n\u001b[32m    326\u001b[39m         filename=filename,\n\u001b[32m   (...)\u001b[39m\u001b[32m    336\u001b[39m         wire_order=complete_wire_order,\n\u001b[32m    337\u001b[39m     )\n\u001b[32m    338\u001b[39m \u001b[38;5;28;01melif\u001b[39;00m output == \u001b[33m\"\u001b[39m\u001b[33mmpl\u001b[39m\u001b[33m\"\u001b[39m:\n\u001b[32m--> \u001b[39m\u001b[32m339\u001b[39m     image = \u001b[43m_matplotlib_circuit_drawer\u001b[49m\u001b[43m(\u001b[49m\n\u001b[32m    340\u001b[39m \u001b[43m        \u001b[49m\u001b[43mcircuit\u001b[49m\u001b[43m,\u001b[49m\n\u001b[32m    341\u001b[39m \u001b[43m        \u001b[49m\u001b[43mscale\u001b[49m\u001b[43m=\u001b[49m\u001b[43mscale\u001b[49m\u001b[43m,\u001b[49m\n\u001b[32m    342\u001b[39m \u001b[43m        \u001b[49m\u001b[43mfilename\u001b[49m\u001b[43m=\u001b[49m\u001b[43mfilename\u001b[49m\u001b[43m,\u001b[49m\n\u001b[32m    343\u001b[39m \u001b[43m        \u001b[49m\u001b[43mstyle\u001b[49m\u001b[43m=\u001b[49m\u001b[43mstyle\u001b[49m\u001b[43m,\u001b[49m\n\u001b[32m    344\u001b[39m \u001b[43m        \u001b[49m\u001b[43mplot_barriers\u001b[49m\u001b[43m=\u001b[49m\u001b[43mplot_barriers\u001b[49m\u001b[43m,\u001b[49m\n\u001b[32m    345\u001b[39m \u001b[43m        \u001b[49m\u001b[43mreverse_bits\u001b[49m\u001b[43m=\u001b[49m\u001b[43mreverse_bits\u001b[49m\u001b[43m,\u001b[49m\n\u001b[32m    346\u001b[39m \u001b[43m        \u001b[49m\u001b[43mjustify\u001b[49m\u001b[43m=\u001b[49m\u001b[43mjustify\u001b[49m\u001b[43m,\u001b[49m\n\u001b[32m    347\u001b[39m \u001b[43m        \u001b[49m\u001b[43midle_wires\u001b[49m\u001b[43m=\u001b[49m\u001b[43midle_wires\u001b[49m\u001b[43m,\u001b[49m\n\u001b[32m    348\u001b[39m \u001b[43m        \u001b[49m\u001b[43mwith_layout\u001b[49m\u001b[43m=\u001b[49m\u001b[43mwith_layout\u001b[49m\u001b[43m,\u001b[49m\n\u001b[32m    349\u001b[39m \u001b[43m        \u001b[49m\u001b[43mfold\u001b[49m\u001b[43m=\u001b[49m\u001b[43mfold\u001b[49m\u001b[43m,\u001b[49m\n\u001b[32m    350\u001b[39m \u001b[43m        \u001b[49m\u001b[43max\u001b[49m\u001b[43m=\u001b[49m\u001b[43max\u001b[49m\u001b[43m,\u001b[49m\n\u001b[32m    351\u001b[39m \u001b[43m        \u001b[49m\u001b[43minitial_state\u001b[49m\u001b[43m=\u001b[49m\u001b[43minitial_state\u001b[49m\u001b[43m,\u001b[49m\n\u001b[32m    352\u001b[39m \u001b[43m        \u001b[49m\u001b[43mcregbundle\u001b[49m\u001b[43m=\u001b[49m\u001b[43mcregbundle\u001b[49m\u001b[43m,\u001b[49m\n\u001b[32m    353\u001b[39m \u001b[43m        \u001b[49m\u001b[43mwire_order\u001b[49m\u001b[43m=\u001b[49m\u001b[43mcomplete_wire_order\u001b[49m\u001b[43m,\u001b[49m\n\u001b[32m    354\u001b[39m \u001b[43m        \u001b[49m\u001b[43mexpr_len\u001b[49m\u001b[43m=\u001b[49m\u001b[43mexpr_len\u001b[49m\u001b[43m,\u001b[49m\n\u001b[32m    355\u001b[39m \u001b[43m    \u001b[49m\u001b[43m)\u001b[49m\n\u001b[32m    356\u001b[39m \u001b[38;5;28;01melse\u001b[39;00m:\n\u001b[32m    357\u001b[39m     \u001b[38;5;28;01mraise\u001b[39;00m VisualizationError(\n\u001b[32m    358\u001b[39m         \u001b[33mf\u001b[39m\u001b[33m\"\u001b[39m\u001b[33mInvalid output type \u001b[39m\u001b[38;5;132;01m{\u001b[39;00moutput\u001b[38;5;132;01m}\u001b[39;00m\u001b[33m selected. The only valid choices \u001b[39m\u001b[33m\"\u001b[39m\n\u001b[32m    359\u001b[39m         \u001b[33m\"\u001b[39m\u001b[33mare text, latex, latex_source, and mpl\u001b[39m\u001b[33m\"\u001b[39m\n\u001b[32m    360\u001b[39m     )\n",
      "\u001b[36mFile \u001b[39m\u001b[32mc:\\Users\\angel\\Proyectos\\quantum-computing-experiments\\venv\\Lib\\site-packages\\qiskit\\visualization\\circuit\\circuit_visualization.py:719\u001b[39m, in \u001b[36m_matplotlib_circuit_drawer\u001b[39m\u001b[34m(circuit, scale, filename, style, plot_barriers, reverse_bits, justify, idle_wires, with_layout, fold, ax, initial_state, cregbundle, wire_order, expr_len)\u001b[39m\n\u001b[32m    716\u001b[39m \u001b[38;5;28;01mif\u001b[39;00m fold \u001b[38;5;129;01mis\u001b[39;00m \u001b[38;5;28;01mNone\u001b[39;00m:\n\u001b[32m    717\u001b[39m     fold = \u001b[32m25\u001b[39m\n\u001b[32m--> \u001b[39m\u001b[32m719\u001b[39m qcd = \u001b[43m_matplotlib\u001b[49m\u001b[43m.\u001b[49m\u001b[43mMatplotlibDrawer\u001b[49m\u001b[43m(\u001b[49m\n\u001b[32m    720\u001b[39m \u001b[43m    \u001b[49m\u001b[43mqubits\u001b[49m\u001b[43m,\u001b[49m\n\u001b[32m    721\u001b[39m \u001b[43m    \u001b[49m\u001b[43mclbits\u001b[49m\u001b[43m,\u001b[49m\n\u001b[32m    722\u001b[39m \u001b[43m    \u001b[49m\u001b[43mnodes\u001b[49m\u001b[43m,\u001b[49m\n\u001b[32m    723\u001b[39m \u001b[43m    \u001b[49m\u001b[43mcircuit\u001b[49m\u001b[43m,\u001b[49m\n\u001b[32m    724\u001b[39m \u001b[43m    \u001b[49m\u001b[43mscale\u001b[49m\u001b[43m=\u001b[49m\u001b[43mscale\u001b[49m\u001b[43m,\u001b[49m\n\u001b[32m    725\u001b[39m \u001b[43m    \u001b[49m\u001b[43mstyle\u001b[49m\u001b[43m=\u001b[49m\u001b[43mstyle\u001b[49m\u001b[43m,\u001b[49m\n\u001b[32m    726\u001b[39m \u001b[43m    \u001b[49m\u001b[43mreverse_bits\u001b[49m\u001b[43m=\u001b[49m\u001b[43mreverse_bits\u001b[49m\u001b[43m,\u001b[49m\n\u001b[32m    727\u001b[39m \u001b[43m    \u001b[49m\u001b[43mplot_barriers\u001b[49m\u001b[43m=\u001b[49m\u001b[43mplot_barriers\u001b[49m\u001b[43m,\u001b[49m\n\u001b[32m    728\u001b[39m \u001b[43m    \u001b[49m\u001b[43mfold\u001b[49m\u001b[43m=\u001b[49m\u001b[43mfold\u001b[49m\u001b[43m,\u001b[49m\n\u001b[32m    729\u001b[39m \u001b[43m    \u001b[49m\u001b[43max\u001b[49m\u001b[43m=\u001b[49m\u001b[43max\u001b[49m\u001b[43m,\u001b[49m\n\u001b[32m    730\u001b[39m \u001b[43m    \u001b[49m\u001b[43minitial_state\u001b[49m\u001b[43m=\u001b[49m\u001b[43minitial_state\u001b[49m\u001b[43m,\u001b[49m\n\u001b[32m    731\u001b[39m \u001b[43m    \u001b[49m\u001b[43mcregbundle\u001b[49m\u001b[43m=\u001b[49m\u001b[43mcregbundle\u001b[49m\u001b[43m,\u001b[49m\n\u001b[32m    732\u001b[39m \u001b[43m    \u001b[49m\u001b[43mwith_layout\u001b[49m\u001b[43m=\u001b[49m\u001b[43mwith_layout\u001b[49m\u001b[43m,\u001b[49m\n\u001b[32m    733\u001b[39m \u001b[43m    \u001b[49m\u001b[43mexpr_len\u001b[49m\u001b[43m=\u001b[49m\u001b[43mexpr_len\u001b[49m\u001b[43m,\u001b[49m\n\u001b[32m    734\u001b[39m \u001b[43m\u001b[49m\u001b[43m)\u001b[49m\n\u001b[32m    735\u001b[39m \u001b[38;5;28;01mreturn\u001b[39;00m qcd.draw(filename)\n",
      "\u001b[36mFile \u001b[39m\u001b[32mc:\\Users\\angel\\Proyectos\\quantum-computing-experiments\\venv\\Lib\\site-packages\\qiskit\\utils\\classtools.py:111\u001b[39m, in \u001b[36m_WrappedMethod.__get__.<locals>.out\u001b[39m\u001b[34m(*args, **kwargs)\u001b[39m\n\u001b[32m    108\u001b[39m \u001b[38;5;129m@functools\u001b[39m.wraps(method)\n\u001b[32m    109\u001b[39m \u001b[38;5;28;01mdef\u001b[39;00m\u001b[38;5;250m \u001b[39m\u001b[34mout\u001b[39m(*args, **kwargs):\n\u001b[32m    110\u001b[39m     \u001b[38;5;28;01mfor\u001b[39;00m callback \u001b[38;5;129;01min\u001b[39;00m \u001b[38;5;28mself\u001b[39m._before:\n\u001b[32m--> \u001b[39m\u001b[32m111\u001b[39m         \u001b[43mcallback\u001b[49m\u001b[43m.\u001b[49m\u001b[34;43m__get__\u001b[39;49m\u001b[43m(\u001b[49m\u001b[43mobj\u001b[49m\u001b[43m,\u001b[49m\u001b[43m \u001b[49m\u001b[43mobjtype\u001b[49m\u001b[43m)\u001b[49m\u001b[43m(\u001b[49m\u001b[43m*\u001b[49m\u001b[43margs\u001b[49m\u001b[43m,\u001b[49m\u001b[43m \u001b[49m\u001b[43m*\u001b[49m\u001b[43m*\u001b[49m\u001b[43mkwargs\u001b[49m\u001b[43m)\u001b[49m\n\u001b[32m    112\u001b[39m     retval = method(*args, **kwargs)\n\u001b[32m    113\u001b[39m     \u001b[38;5;28;01mfor\u001b[39;00m callback \u001b[38;5;129;01min\u001b[39;00m \u001b[38;5;28mself\u001b[39m._after:\n",
      "\u001b[36mFile \u001b[39m\u001b[32mc:\\Users\\angel\\Proyectos\\quantum-computing-experiments\\venv\\Lib\\site-packages\\qiskit\\utils\\lazy_tester.py:41\u001b[39m, in \u001b[36m_RequireNow.__call__\u001b[39m\u001b[34m(self, *_args, **_kwargs)\u001b[39m\n\u001b[32m     40\u001b[39m \u001b[38;5;28;01mdef\u001b[39;00m\u001b[38;5;250m \u001b[39m\u001b[34m__call__\u001b[39m(\u001b[38;5;28mself\u001b[39m, *_args, **_kwargs):\n\u001b[32m---> \u001b[39m\u001b[32m41\u001b[39m     \u001b[38;5;28;43mself\u001b[39;49m\u001b[43m.\u001b[49m\u001b[43m_tester\u001b[49m\u001b[43m.\u001b[49m\u001b[43mrequire_now\u001b[49m\u001b[43m(\u001b[49m\u001b[38;5;28;43mself\u001b[39;49m\u001b[43m.\u001b[49m\u001b[43m_feature\u001b[49m\u001b[43m)\u001b[49m\n",
      "\u001b[36mFile \u001b[39m\u001b[32mc:\\Users\\angel\\Proyectos\\quantum-computing-experiments\\venv\\Lib\\site-packages\\qiskit\\utils\\lazy_tester.py:221\u001b[39m, in \u001b[36mLazyDependencyManager.require_now\u001b[39m\u001b[34m(self, feature)\u001b[39m\n\u001b[32m    219\u001b[39m \u001b[38;5;28;01mif\u001b[39;00m \u001b[38;5;28mself\u001b[39m:\n\u001b[32m    220\u001b[39m     \u001b[38;5;28;01mreturn\u001b[39;00m\n\u001b[32m--> \u001b[39m\u001b[32m221\u001b[39m \u001b[38;5;28;01mraise\u001b[39;00m MissingOptionalLibraryError(\n\u001b[32m    222\u001b[39m     libname=\u001b[38;5;28mself\u001b[39m._name, name=feature, pip_install=\u001b[38;5;28mself\u001b[39m._install, msg=\u001b[38;5;28mself\u001b[39m._msg\n\u001b[32m    223\u001b[39m )\n",
      "\u001b[31mMissingOptionalLibraryError\u001b[39m: \"The 'pylatexenc' library is required to use 'MatplotlibDrawer'. You can install it with 'pip install pylatexenc'.\""
     ]
    },
    {
     "data": {
      "image/png": "[encoded data removed]",
      "text/plain": [
       "<Figure size 1000x600 with 1 Axes>"
      ]
     },
     "metadata": {},
     "output_type": "display_data"
    }
   ],
   "source": [
    "# Visualizar el circuito\n",
    "print(\"Diagrama del Circuito Cuántico para Estado de Bell:\")\n",
    "print()\n",
    "print(qc.draw())\n",
    "\n",
    "# Crear versión visual para guardar\n",
    "fig, ax = plt.subplots(figsize=(10, 6))\n",
    "qc.draw(output='mpl', ax=ax)\n",
    "plt.title('Circuito Cuántico - Estado de Bell', fontsize=16, fontweight='bold')\n",
    "plt.tight_layout()\n",
    "\n",
    "# Guardar la imagen\n",
    "plt.savefig('../images/bell_state_circuit.png', dpi=300, bbox_inches='tight')\n",
    "plt.show()\n",
    "\n",
    "print(\"Imagen del circuito guardada en 'images/bell_state_circuit.png'\")"
   ]
  },
  {
   "cell_type": "markdown",
   "id": "0f3e3cf4",
   "metadata": {},
   "source": [
    "## Simulación del Circuito\n",
    "\n",
    "Ahora vamos a simular nuestro circuito cuántico usando el simulador Aer de Qiskit. Ejecutaremos el circuito 1000 veces para obtener una distribución estadística de los resultados."
   ]
  },
  {
   "cell_type": "code",
   "execution_count": null,
   "id": "d3216819",
   "metadata": {},
   "outputs": [],
   "source": [
    "# Configurar el simulador\n",
    "simulator = AerSimulator()\n",
    "\n",
    "# Número de ejecuciones (shots)\n",
    "shots = 1000\n",
    "\n",
    "# Compilar el circuito para el simulador\n",
    "pm = generate_preset_pass_manager(backend=simulator, optimization_level=1)\n",
    "compiled_circuit = pm.run(qc)\n",
    "\n",
    "# Ejecutar la simulación\n",
    "print(f\"Ejecutando simulación con {shots} mediciones...\")\n",
    "job = simulator.run(compiled_circuit, shots=shots)\n",
    "result = job.result()\n",
    "counts = result.get_counts()\n",
    "\n",
    "print(\"Simulación completada\")\n",
    "print(f\"Resultados obtenidos: {counts}\")"
   ]
  },
  {
   "cell_type": "markdown",
   "id": "587cbb08",
   "metadata": {},
   "source": [
    "## Análisis de Resultados\n",
    "\n",
    "Vamos a analizar los resultados para verificar que efectivamente hemos creado un estado de Bell entrelazado."
   ]
  },
  {
   "cell_type": "code",
   "execution_count": null,
   "id": "72e8801c",
   "metadata": {},
   "outputs": [],
   "source": [
    "# Análisis estadístico de los resultados\n",
    "total_measurements = sum(counts.values())\n",
    "print(\"ANÁLISIS DE RESULTADOS DEL ESTADO DE BELL\")\n",
    "print(\"=\" * 50)\n",
    "\n",
    "for state, count in sorted(counts.items()):\n",
    "    probability = count / total_measurements\n",
    "    percentage = probability * 100\n",
    "    print(f\"Estado |{state}⟩: {count:4d} mediciones ({percentage:5.1f}%)\")\n",
    "\n",
    "print()\n",
    "print(\"VERIFICACIÓN DEL ENTRELAZAMIENTO:\")\n",
    "print(\"-\" * 40)\n",
    "\n",
    "# Verificar si tenemos principalmente estados |00⟩ y |11⟩\n",
    "bell_states = counts.get('00', 0) + counts.get('11', 0)\n",
    "mixed_states = counts.get('01', 0) + counts.get('10', 0)\n",
    "\n",
    "bell_percentage = (bell_states / total_measurements) * 100\n",
    "mixed_percentage = (mixed_states / total_measurements) * 100\n",
    "\n",
    "print(f\"Estados entrelazados (00, 11): {bell_percentage:.1f}%\")\n",
    "print(f\"Estados mixtos (01, 10): {mixed_percentage:.1f}%\")\n",
    "\n",
    "if bell_percentage > 95:\n",
    "    print(\"\\n¡ENTRELAZAMIENTO CONFIRMADO!\")\n",
    "    print(\"Los qubits están perfectamente entrelazados\")\n",
    "else:\n",
    "    print(\"\\n Posible error en el entrelazamiento\")"
   ]
  },
  {
   "cell_type": "markdown",
   "id": "fe8ad050",
   "metadata": {},
   "source": [
    "## Visualización de Resultados\n",
    "\n",
    "Creamos un histograma para visualizar la distribución de probabilidades de nuestras mediciones:"
   ]
  },
  {
   "cell_type": "code",
   "execution_count": null,
   "id": "903523f4",
   "metadata": {},
   "outputs": [],
   "source": [
    "# Crear histograma de resultados\n",
    "fig, ax = plt.subplots(figsize=(12, 8))\n",
    "\n",
    "# Plotear histograma con Qiskit\n",
    "plot_histogram(counts, ax=ax, title='Distribución de Mediciones - Estado de Bell')\n",
    "\n",
    "# Personalizar el gráfico\n",
    "ax.set_title('Resultados de Mediciones del Estado de Bell\\n(1000 ejecuciones)', \n",
    "             fontsize=16, fontweight='bold', pad=20)\n",
    "ax.set_xlabel('Estados Cuánticos Medidos', fontsize=14)\n",
    "ax.set_ylabel('Número de Mediciones', fontsize=14)\n",
    "\n",
    "# Añadir líneas de referencia para probabilidades teóricas\n",
    "theoretical_prob = shots / 2  # 50% para cada estado en un Bell state perfecto\n",
    "ax.axhline(y=theoretical_prob, color='red', linestyle='--', alpha=0.7, \n",
    "           label=f'Probabilidad teórica (50% = {theoretical_prob} mediciones)')\n",
    "ax.legend()\n",
    "\n",
    "plt.tight_layout()\n",
    "\n",
    "# Guardar la imagen\n",
    "plt.savefig('../images/bell_state_histogram.png', dpi=300, bbox_inches='tight')\n",
    "plt.show()\n",
    "\n",
    "print(\"Histograma guardado en 'images/bell_state_histogram.png'\")"
   ]
  },
  {
   "cell_type": "markdown",
   "id": "36a8c3e6",
   "metadata": {},
   "source": [
    "## Experimento Adicional: Verificación de Correlación\n",
    "\n",
    "Vamos a realizar un experimento adicional para demostrar la correlación perfecta entre los qubits entrelazados:"
   ]
  },
  {
   "cell_type": "code",
   "execution_count": null,
   "id": "8c5bf8a3",
   "metadata": {},
   "outputs": [],
   "source": [
    "# Crear un circuito para medir correlaciones\n",
    "correlation_analysis = []\n",
    "num_experiments = 100\n",
    "\n",
    "print(f\" Realizando {num_experiments} experimentos de correlación...\")\n",
    "\n",
    "for experiment in range(num_experiments):\n",
    "    # Crear nuevo circuito\n",
    "    qc_test = QuantumCircuit(2, 2)\n",
    "    qc_test.h(0)  # Hadamard en qubit 0\n",
    "    qc_test.cx(0, 1)  # CNOT entre qubits 0 y 1\n",
    "    qc_test.measure_all()\n",
    "    \n",
    "    # Compilar y ejecutar\n",
    "    compiled_test = pm.run(qc_test)\n",
    "    job_test = simulator.run(compiled_test, shots=10)\n",
    "    result_test = job_test.result()\n",
    "    counts_test = result_test.get_counts()\n",
    "    \n",
    "    # Analizar correlación\n",
    "    correlated = counts_test.get('00', 0) + counts_test.get('11', 0)\n",
    "    total = sum(counts_test.values())\n",
    "    correlation_percentage = (correlated / total) * 100\n",
    "    correlation_analysis.append(correlation_percentage)\n",
    "\n",
    "# Estadísticas de correlación\n",
    "avg_correlation = np.mean(correlation_analysis)\n",
    "std_correlation = np.std(correlation_analysis)\n",
    "min_correlation = np.min(correlation_analysis)\n",
    "max_correlation = np.max(correlation_analysis)\n",
    "\n",
    "print(\"\\n ESTADÍSTICAS DE CORRELACIÓN:\")\n",
    "print(\"=\" * 40)\n",
    "print(f\"Correlación promedio: {avg_correlation:.1f}% ± {std_correlation:.1f}%\")\n",
    "print(f\"Correlación mínima: {min_correlation:.1f}%\")\n",
    "print(f\"Correlación máxima: {max_correlation:.1f}%\")\n",
    "\n",
    "if avg_correlation > 90:\n",
    "    print(\"\\n¡Correlación cuántica excelente!\")\n",
    "    print(\"Los qubits mantienen entrelazamiento consistente\")\n",
    "\n",
    "# Gráfico de correlaciones\n",
    "plt.figure(figsize=(10, 6))\n",
    "plt.hist(correlation_analysis, bins=20, alpha=0.7, color='purple', edgecolor='black')\n",
    "plt.axvline(avg_correlation, color='red', linestyle='--', linewidth=2, \n",
    "            label=f'Promedio: {avg_correlation:.1f}%')\n",
    "plt.xlabel('Porcentaje de Correlación (%)', fontsize=12)\n",
    "plt.ylabel('Frecuencia', fontsize=12)\n",
    "plt.title('Distribución de Correlaciones en Estados de Bell\\n(100 experimentos)', \n",
    "          fontsize=14, fontweight='bold')\n",
    "plt.legend()\n",
    "plt.grid(True, alpha=0.3)\n",
    "plt.tight_layout()\n",
    "\n",
    "# Guardar gráfico de correlaciones\n",
    "plt.savefig('../images/bell_correlation_analysis.png', dpi=300, bbox_inches='tight')\n",
    "plt.show()\n",
    "\n",
    "print(\"Análisis de correlación guardado en 'images/bell_correlation_analysis.png'\")"
   ]
  },
  {
   "cell_type": "markdown",
   "id": "549a306e",
   "metadata": {},
   "source": [
    "## Conclusiones\n",
    "\n",
    "1. **Creación exitosa de un Estado de Bell**: Hemos construido un circuito cuántico que genera entrelazamiento entre dos qubits.\n",
    "\n",
    "2. **Verificación experimental**: Las mediciones muestran que obtenemos principalmente estados |00⟩ y |11⟩, confirmando el entrelazamiento.\n",
    "\n",
    "3. **Correlación cuántica**: Los qubits entrelazados mantienen correlación perfecta - cuando uno está en |0⟩, el otro también; cuando uno está en |1⟩, el otro también.\n",
    "\n",
    "### Conceptos clave aprendidos:\n",
    "\n",
    "- **Superposición cuántica**: La puerta Hadamard crea un estado superpuesto\n",
    "- **Entrelazamiento**: La puerta CNOT correlaciona los estados de dos qubits\n",
    "- **Medición cuántica**: El acto de medir colapsa el estado superpuesto\n",
    "- **No-localidad**: Los qubits entrelazados mantienen correlación instantánea\n",
    "\n",
    "### Aplicaciones prácticas:\n",
    "\n",
    "Los Estados de Bell son fundamentales para:\n",
    "- **Teletransportación cuántica**\n",
    "- **Criptografía cuántica**\n",
    "- **Computación cuántica distribuida**\n",
    "- **Sensores cuánticos de alta precisión**"
   ]
  }
 ],
 "metadata": {
  "kernelspec": {
   "display_name": "venv (3.13.7)",
   "language": "python",
   "name": "python3"
  },
  "language_info": {
   "codemirror_mode": {
    "name": "ipython",
    "version": 3
   },
   "file_extension": ".py",
   "mimetype": "text/x-python",
   "name": "python",
   "nbconvert_exporter": "python",
   "pygments_lexer": "ipython3",
   "version": "3.13.7"
  }
 },
 "nbformat": 4,
 "nbformat_minor": 5
}
